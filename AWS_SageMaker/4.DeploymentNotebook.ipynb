{
 "cells": [
  {
   "cell_type": "code",
   "execution_count": 8,
   "id": "db5a463f-0b49-4f1c-8567-629eaad81128",
   "metadata": {},
   "outputs": [
    {
     "name": "stdout",
     "output_type": "stream",
     "text": [
      "Requirement already satisfied: transformers in /opt/conda/lib/python3.11/site-packages (4.38.2)\n",
      "Requirement already satisfied: filelock in /opt/conda/lib/python3.11/site-packages (from transformers) (3.16.1)\n",
      "Requirement already satisfied: huggingface-hub<1.0,>=0.19.3 in /opt/conda/lib/python3.11/site-packages (from transformers) (0.26.5)\n",
      "Requirement already satisfied: numpy>=1.17 in /opt/conda/lib/python3.11/site-packages (from transformers) (1.26.4)\n",
      "Requirement already satisfied: packaging>=20.0 in /opt/conda/lib/python3.11/site-packages (from transformers) (24.2)\n",
      "Requirement already satisfied: pyyaml>=5.1 in /opt/conda/lib/python3.11/site-packages (from transformers) (6.0.2)\n",
      "Requirement already satisfied: regex!=2019.12.17 in /opt/conda/lib/python3.11/site-packages (from transformers) (2024.11.6)\n",
      "Requirement already satisfied: requests in /opt/conda/lib/python3.11/site-packages (from transformers) (2.32.3)\n",
      "Requirement already satisfied: tokenizers<0.19,>=0.14 in /opt/conda/lib/python3.11/site-packages (from transformers) (0.15.2)\n",
      "Requirement already satisfied: safetensors>=0.4.1 in /opt/conda/lib/python3.11/site-packages (from transformers) (0.4.5)\n",
      "Requirement already satisfied: tqdm>=4.27 in /opt/conda/lib/python3.11/site-packages (from transformers) (4.67.1)\n",
      "Requirement already satisfied: fsspec>=2023.5.0 in /opt/conda/lib/python3.11/site-packages (from huggingface-hub<1.0,>=0.19.3->transformers) (2023.6.0)\n",
      "Requirement already satisfied: typing-extensions>=3.7.4.3 in /opt/conda/lib/python3.11/site-packages (from huggingface-hub<1.0,>=0.19.3->transformers) (4.12.2)\n",
      "Requirement already satisfied: charset_normalizer<4,>=2 in /opt/conda/lib/python3.11/site-packages (from requests->transformers) (3.4.0)\n",
      "Requirement already satisfied: idna<4,>=2.5 in /opt/conda/lib/python3.11/site-packages (from requests->transformers) (3.10)\n",
      "Requirement already satisfied: urllib3<3,>=1.21.1 in /opt/conda/lib/python3.11/site-packages (from requests->transformers) (1.26.19)\n",
      "Requirement already satisfied: certifi>=2017.4.17 in /opt/conda/lib/python3.11/site-packages (from requests->transformers) (2024.8.30)\n"
     ]
    }
   ],
   "source": [
    "!pip install transformers"
   ]
  },
  {
   "cell_type": "code",
   "execution_count": 9,
   "id": "b5657fda-9d2e-459b-8dea-c7c72df36520",
   "metadata": {},
   "outputs": [],
   "source": [
    "from sagemaker.huggingface import HuggingFaceModel\n",
    "from sagemaker import get_execution_role"
   ]
  },
  {
   "cell_type": "code",
   "execution_count": 10,
   "id": "64347d76-bd86-4b4f-9ab5-1027cd11aa93",
   "metadata": {},
   "outputs": [
    {
     "data": {
      "text/plain": [
       "'arn:aws:iam::041434534908:role/service-role/AmazonSageMaker-ExecutionRole-20250111T113739'"
      ]
     },
     "execution_count": 10,
     "metadata": {},
     "output_type": "execute_result"
    }
   ],
   "source": [
    "role = get_execution_role()\n",
    "role"
   ]
  },
  {
   "cell_type": "code",
   "execution_count": 11,
   "id": "36a99ae9-e216-4275-b901-22105842116f",
   "metadata": {},
   "outputs": [],
   "source": [
    "model_s3_path = 's3://tk5-huggingface-multiclass-textclassification-bucket/output/tk5-generated-output/output/model.tar.gz'"
   ]
  },
  {
   "cell_type": "code",
   "execution_count": 13,
   "id": "1ecc6f48-9d4d-4d14-9736-41680d91aca9",
   "metadata": {},
   "outputs": [],
   "source": [
    "huggingface_model = HuggingFaceModel(\n",
    "    role=role, \n",
    "    model_data=model_s3_path, \n",
    "    entry_point='inference.py', \n",
    "    transformers_version='4.6.1', \n",
    "    pytorch_version='1.8.1', \n",
    "    py_version='py36', \n",
    "    name='NewsHeadline-Model-v11-for-Deployment'\n",
    ")"
   ]
  },
  {
   "cell_type": "code",
   "execution_count": 14,
   "id": "e03e9f29-24c1-4617-abac-c2678274cb50",
   "metadata": {},
   "outputs": [
    {
     "name": "stdout",
     "output_type": "stream",
     "text": [
      "----!"
     ]
    }
   ],
   "source": [
    "predictor = huggingface_model.deploy(\n",
    "    initial_instance_count=1, \n",
    "    instance_type='ml.m5.xlarge', \n",
    "    endpoint_name='news-headline-endpoint-for-Deployment-tk5-v1'\n",
    ")"
   ]
  },
  {
   "cell_type": "code",
   "execution_count": 15,
   "id": "7f406735-fc2c-4f41-b7a6-70dc5d574a08",
   "metadata": {},
   "outputs": [
    {
     "data": {
      "text/plain": [
       "{'inputs': 'Time travel is achievable - says top scientist from NASA'}"
      ]
     },
     "execution_count": 15,
     "metadata": {},
     "output_type": "execute_result"
    }
   ],
   "source": [
    "sample_data = {'inputs': 'Time travel is achievable - says top scientist from NASA'}\n",
    "sample_data"
   ]
  },
  {
   "cell_type": "code",
   "execution_count": 16,
   "id": "10ed100a-cc80-425d-861f-17ecb587e673",
   "metadata": {},
   "outputs": [
    {
     "data": {
      "text/plain": [
       "[{'predicted_label': 'SCIENCE'},\n",
       " {'BUSINESS': 0.0012946061324328184,\n",
       "  'ENTERTAINMENT': 0.00042638261220417917,\n",
       "  'HEALTH': 0.000539263419341296,\n",
       "  'SCIENCE': 0.9977397918701172}]"
      ]
     },
     "execution_count": 16,
     "metadata": {},
     "output_type": "execute_result"
    }
   ],
   "source": [
    "predictor.predict(data=sample_data)"
   ]
  },
  {
   "cell_type": "code",
   "execution_count": 17,
   "id": "2f3e30d2-7c6a-4b82-991a-662f2be2d578",
   "metadata": {},
   "outputs": [
    {
     "data": {
      "text/plain": [
       "[{'predicted_label': 'ENTERTAINMENT'},\n",
       " {'BUSINESS': 0.0003286774444859475,\n",
       "  'ENTERTAINMENT': 0.9985359907150269,\n",
       "  'HEALTH': 0.0003715775383170694,\n",
       "  'SCIENCE': 0.0007636690279468894}]"
      ]
     },
     "execution_count": 17,
     "metadata": {},
     "output_type": "execute_result"
    }
   ],
   "source": [
    "predictor.predict({'inputs': 'Succession is on the same level as Breaking Bad and Game of Thrones'})"
   ]
  },
  {
   "cell_type": "code",
   "execution_count": null,
   "id": "b7eb96eb-159e-4319-b84d-a80e90bb3435",
   "metadata": {},
   "outputs": [],
   "source": []
  }
 ],
 "metadata": {
  "kernelspec": {
   "display_name": "Python 3 (ipykernel)",
   "language": "python",
   "name": "python3"
  },
  "language_info": {
   "codemirror_mode": {
    "name": "ipython",
    "version": 3
   },
   "file_extension": ".py",
   "mimetype": "text/x-python",
   "name": "python",
   "nbconvert_exporter": "python",
   "pygments_lexer": "ipython3",
   "version": "3.11.11"
  }
 },
 "nbformat": 4,
 "nbformat_minor": 5
}

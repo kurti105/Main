{
 "cells": [
  {
   "cell_type": "code",
   "execution_count": 1,
   "id": "0d13f0ee-3a0b-4073-980a-ae090367b6e0",
   "metadata": {},
   "outputs": [
    {
     "name": "stdout",
     "output_type": "stream",
     "text": [
      "sagemaker.config INFO - Not applying SDK defaults from location: /etc/xdg/sagemaker/config.yaml\n",
      "sagemaker.config INFO - Not applying SDK defaults from location: /home/sagemaker-user/.config/sagemaker/config.yaml\n"
     ]
    }
   ],
   "source": [
    "import sagemaker\n",
    "import boto3\n",
    "from sagemaker.huggingface import HuggingFaceModel"
   ]
  },
  {
   "cell_type": "code",
   "execution_count": 2,
   "id": "eb18c14f-376c-4a3a-888c-e798bf132d6d",
   "metadata": {},
   "outputs": [],
   "source": [
    "# Get SageMaker execution role\n",
    "try:\n",
    "\trole = sagemaker.get_execution_role()\n",
    "except ValueError:\n",
    "\tiam = boto3.client('iam')\n",
    "\trole = iam.get_role(RoleName='sagemaker_execution_role')['Role']['Arn']"
   ]
  },
  {
   "cell_type": "code",
   "execution_count": 3,
   "id": "9a69838f-870b-40b1-9127-469a794f81d7",
   "metadata": {},
   "outputs": [
    {
     "data": {
      "text/plain": [
       "'arn:aws:iam::041434534908:role/service-role/AmazonSageMaker-ExecutionRole-20250111T113739'"
      ]
     },
     "execution_count": 3,
     "metadata": {},
     "output_type": "execute_result"
    }
   ],
   "source": [
    "role"
   ]
  },
  {
   "cell_type": "markdown",
   "id": "02d8e803-aaac-4dae-9940-68beffbad71f",
   "metadata": {},
   "source": [
    "From the `role` output above, if we copy the section: `AmazonSageMaker-ExecutionRole-20250111T113739` and go to:\n",
    "1. **AWS Home**\n",
    "2. Open **IAM**\n",
    "3. Go to **Roles**\n",
    "4. Paste the role as `AmazonSageMaker-ExecutionRole-20250111T113739` in the search bar, and then click on it\n",
    "5. We can see the execution roles we have given to this SageMaker profile"
   ]
  },
  {
   "cell_type": "code",
   "execution_count": 4,
   "id": "1a41993f-337a-4ac9-80bf-66f1700c81da",
   "metadata": {},
   "outputs": [],
   "source": [
    "# Hub Model configuration. https://huggingface.co/models - TK: This is the model we are referring to from Hugging Face\n",
    "hub = {\n",
    "\t'HF_MODEL_ID':'cardiffnlp/twitter-roberta-base-sentiment-latest',\n",
    "\t'HF_TASK':'text-classification'\n",
    "}"
   ]
  },
  {
   "cell_type": "code",
   "execution_count": 5,
   "id": "5cf78afe-5b3d-42b7-934e-36e422b9d85b",
   "metadata": {},
   "outputs": [],
   "source": [
    "# create Hugging Face Model Class\n",
    "huggingface_model = HuggingFaceModel(\n",
    "\ttransformers_version='4.37.0',\n",
    "\tpytorch_version='2.1.0',\n",
    "\tpy_version='py310',\n",
    "\tenv=hub,\n",
    "\trole=role,\n",
    ")"
   ]
  },
  {
   "cell_type": "code",
   "execution_count": 6,
   "id": "17276451-2bda-4d07-b8b5-e92e9bc29fd5",
   "metadata": {},
   "outputs": [
    {
     "name": "stdout",
     "output_type": "stream",
     "text": [
      "------!"
     ]
    }
   ],
   "source": [
    "# deploy model to SageMaker Inference - TK: This will create a SageMaker endpoint\n",
    "predictor = huggingface_model.deploy(\n",
    "\tinitial_instance_count=1, # number of instances\n",
    "\tinstance_type='ml.m5.xlarge' # ec2 instance type\n",
    ")"
   ]
  },
  {
   "cell_type": "code",
   "execution_count": 7,
   "id": "cab1c108-fa27-4e0d-bbbd-b06b9c3e96a5",
   "metadata": {},
   "outputs": [
    {
     "data": {
      "text/plain": [
       "[{'label': 'positive', 'score': 0.9299361705780029}]"
      ]
     },
     "execution_count": 7,
     "metadata": {},
     "output_type": "execute_result"
    }
   ],
   "source": [
    "predictor.predict({\n",
    "\t\"inputs\": \"I like you. I love you\",\n",
    "})"
   ]
  },
  {
   "cell_type": "code",
   "execution_count": 8,
   "id": "619355c6-67e7-41b4-ae9a-f3af21fce85e",
   "metadata": {},
   "outputs": [
    {
     "data": {
      "text/plain": [
       "[{'label': 'negative', 'score': 0.8147163391113281}]"
      ]
     },
     "execution_count": 8,
     "metadata": {},
     "output_type": "execute_result"
    }
   ],
   "source": [
    "predictor.predict({\"inputs\": \"The world is in shock today!\"})"
   ]
  },
  {
   "cell_type": "markdown",
   "id": "22cee029-d7fe-4927-a3db-fc186fcdb938",
   "metadata": {},
   "source": [
    "I will now go back to SageMaker -> Inference -> Endpoints & delete the Endpoint we just created.\n",
    "\n",
    "This was just for testing purposes, we will fine-tune this model for our own dataset (News Headlines) which we will then deploy!"
   ]
  },
  {
   "cell_type": "code",
   "execution_count": null,
   "id": "d4cca6f1-5e28-4917-bce4-af61a3423960",
   "metadata": {},
   "outputs": [],
   "source": []
  }
 ],
 "metadata": {
  "kernelspec": {
   "display_name": "Python 3 (ipykernel)",
   "language": "python",
   "name": "python3"
  },
  "language_info": {
   "codemirror_mode": {
    "name": "ipython",
    "version": 3
   },
   "file_extension": ".py",
   "mimetype": "text/x-python",
   "name": "python",
   "nbconvert_exporter": "python",
   "pygments_lexer": "ipython3",
   "version": "3.11.11"
  }
 },
 "nbformat": 4,
 "nbformat_minor": 5
}
